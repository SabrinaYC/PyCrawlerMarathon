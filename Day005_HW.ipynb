{
 "cells": [
  {
   "cell_type": "markdown",
   "metadata": {},
   "source": [
    "# API 資料串接 - 以 Dcard API 實作範例\n",
    "\n",
    "* 了解 Dcard API 使用方式與回傳內容\n",
    "* 撰寫程式存取 API 且解析 JSON 格式資料\n"
   ]
  },
  {
   "cell_type": "markdown",
   "metadata": {},
   "source": [
    "## 作業目標\n",
    "\n",
    "* 請利用 API: https://www.dcard.tw/_api/forums/pet/posts?popular=true 回答下列問題：\n",
    "\n",
    "1. 這個 API 一次會回傳幾筆資料？每一筆資料包含哪些欄位？\n",
    "2. 取出每一筆資料的「標題」、「貼文時間」、「留言人數」、「按讚人數」\n",
    "3. 計算熱門/非熱門文章的「平均留言人數」與「平均按讚人數」"
   ]
  },
  {
   "cell_type": "code",
   "execution_count": 107,
   "metadata": {},
   "outputs": [
    {
     "name": "stdout",
     "output_type": "stream",
     "text": [
      "imported\n"
     ]
    }
   ],
   "source": [
    "import requests\n",
    "import json\n",
    "print(\"imported\")"
   ]
  },
  {
   "cell_type": "code",
   "execution_count": 90,
   "metadata": {},
   "outputs": [
    {
     "name": "stdout",
     "output_type": "stream",
     "text": [
      "一次回傳30筆資料\n",
      "欄位id ,欄位title ,欄位excerpt ,欄位anonymousSchool ,欄位anonymousDepartment ,欄位pinned ,欄位forumId ,欄位replyId ,欄位createdAt ,欄位updatedAt ,欄位commentCount ,欄位likeCount ,欄位withNickname ,欄位tags ,欄位topics ,欄位meta ,欄位forumName ,欄位forumAlias ,欄位nsfw ,欄位gender ,欄位school ,欄位department ,欄位replyTitle ,欄位mediaMeta ,欄位reactions ,欄位hidden ,欄位customStyle ,欄位isSuspiciousAccount ,欄位isModerator ,欄位layout ,欄位spoilerAlert ,欄位withImages ,欄位withVideos ,欄位media ,欄位reportReasonText ,欄位excerptComments ,欄位postAvatar ,欄位verifiedBadge ,"
     ]
    }
   ],
   "source": [
    "# 1. 這個 API 一次會回傳幾筆資料？每一筆資料包含哪些欄位？\n",
    "re = requests.get(\"https://www.dcard.tw/_api/forums/pet/posts?popular=true\")\n",
    "data = json.loads(re.text)\n",
    "print(\"一次回傳\" + str(len(data)) + \"筆資料\")\n",
    "for key in data[0]:\n",
    "    print(\"欄位\"+ key, end= \" ,\")"
   ]
  },
  {
   "cell_type": "code",
   "execution_count": 105,
   "metadata": {},
   "outputs": [
    {
     "name": "stdout",
     "output_type": "stream",
     "text": [
      "標題: 阿嬤家的野貓, 貼文時間： 2021-01-12T06:18:27.364Z, 留言人數: 101, 按讚人數: 964\n",
      "標題: 貓咪真的怕冷嗎？, 貼文時間： 2021-01-12T04:03:34.656Z, 留言人數: 78, 按讚人數: 739\n",
      "標題: 我的貓用手機打電話給我, 貼文時間： 2021-01-12T09:03:43.510Z, 留言人數: 16, 按讚人數: 373\n",
      "標題: 不舒服的時候陪著我的貓, 貼文時間： 2021-01-12T08:05:21.062Z, 留言人數: 16, 按讚人數: 151\n",
      "標題: 躺躺妳在幹嘛？！, 貼文時間： 2021-01-12T17:50:25.827Z, 留言人數: 15, 按讚人數: 119\n",
      "標題: 養貓真的是我這輩子最正確的決定, 貼文時間： 2021-01-12T09:11:04.302Z, 留言人數: 2, 按讚人數: 109\n",
      "標題: 人家都說貓咪喵喵叫，阿我的（？）, 貼文時間： 2021-01-12T13:25:29.625Z, 留言人數: 8, 按讚人數: 94\n",
      "標題: 下班的路上遇到牠😭, 貼文時間： 2021-01-12T21:00:12.419Z, 留言人數: 4, 按讚人數: 93\n",
      "標題: 破壞狂貓咪, 貼文時間： 2021-01-12T02:32:49.202Z, 留言人數: 12, 按讚人數: 78\n",
      "標題: 貓咪的奇怪趴姿🤨, 貼文時間： 2021-01-13T04:40:43.997Z, 留言人數: 7, 按讚人數: 67\n",
      "標題: 消失眼線的哈士奇, 貼文時間： 2021-01-12T08:38:22.868Z, 留言人數: 7, 按讚人數: 57\n",
      "標題: 毛小孩沒穿衣服會被罰1.5W，哭哭 你怎麼沒穿衣服 ~, 貼文時間： 2021-01-12T06:45:01.633Z, 留言人數: 21, 按讚人數: 42\n",
      "標題: 一直這樣看我不知道要幹嘛, 貼文時間： 2021-01-12T00:36:27.470Z, 留言人數: 6, 按讚人數: 42\n",
      "標題: 貓咪尾巴骨折了, 貼文時間： 2021-01-13T03:34:59.281Z, 留言人數: 2, 按讚人數: 38\n",
      "標題: 要不要來我家看貓咪？, 貼文時間： 2021-01-12T23:10:26.287Z, 留言人數: 1, 按讚人數: 33\n",
      "標題: 我家兔子像烤雞！🤣, 貼文時間： 2021-01-12T05:53:30.985Z, 留言人數: 15, 按讚人數: 32\n",
      "標題: 劈腿鼠, 貼文時間： 2021-01-12T02:11:49.083Z, 留言人數: 1, 按讚人數: 32\n",
      "標題: 你家的貓貓也會親鏡頭嗎😍, 貼文時間： 2021-01-12T10:49:19.107Z, 留言人數: 0, 按讚人數: 28\n",
      "標題: 回家永遠都會有不一樣的驚喜^_^, 貼文時間： 2021-01-12T07:09:15.420Z, 留言人數: 0, 按讚人數: 25\n",
      "標題: 第一次養貓🐱, 貼文時間： 2021-01-12T05:38:13.212Z, 留言人數: 6, 按讚人數: 23\n",
      "標題: 欸穿山甲欸！, 貼文時間： 2021-01-12T06:14:26.923Z, 留言人數: 7, 按讚人數: 22\n",
      "標題: 名副其實ㄉ雪橇犬, 貼文時間： 2021-01-12T19:22:41.551Z, 留言人數: 0, 按讚人數: 21\n",
      "標題: 請各位幫我看看他的性別, 貼文時間： 2021-01-12T14:07:15.792Z, 留言人數: 9, 按讚人數: 20\n",
      "標題: 喵喵與老爸父子裝, 貼文時間： 2021-01-12T03:26:52.730Z, 留言人數: 2, 按讚人數: 20\n",
      "標題: 我們一起窩在棉被當馬鈴薯吧, 貼文時間： 2021-01-12T13:47:47.577Z, 留言人數: 1, 按讚人數: 18\n",
      "標題: 請在三秒內指認出貓頭在哪邊, 貼文時間： 2021-01-13T06:54:49.465Z, 留言人數: 0, 按讚人數: 17\n",
      "標題: 倉鼠的眼睛發炎, 貼文時間： 2021-01-12T17:57:38.874Z, 留言人數: 2, 按讚人數: 17\n",
      "標題: 貓咪打架, 貼文時間： 2021-01-12T18:12:41.637Z, 留言人數: 0, 按讚人數: 16\n",
      "標題: 跟大家分享我家三花貓🐱, 貼文時間： 2021-01-12T22:44:08.987Z, 留言人數: 1, 按讚人數: 15\n",
      "標題: ［問題］貓貓7個月米克斯由任食換定食, 貼文時間： 2021-01-12T19:07:06.679Z, 留言人數: 0, 按讚人數: 15\n"
     ]
    }
   ],
   "source": [
    "# 2. 取出每一筆資料的「標題」、「貼文時間」、「留言人數」、「按讚人數」\n",
    "for infos in data:\n",
    "    print(\"標題: {}, 貼文時間： {}, 留言人數: {}, 按讚人數: {}\".format(infos['title'], infos['updatedAt'], infos['commentCount'],\n",
    "                                                        infos['likeCount'])                                         )"
   ]
  },
  {
   "cell_type": "code",
   "execution_count": 143,
   "metadata": {},
   "outputs": [
    {
     "name": "stdout",
     "output_type": "stream",
     "text": [
      "平均留言人數: 11.333333333333334 平均按讚人數: 110.66666666666667\n"
     ]
    }
   ],
   "source": [
    "# 3. 計算熱門/非熱門文章的「平均留言人數」與「平均按讚人數」\n",
    "comm_total = 0\n",
    "like_total = 0\n",
    "for infos in data:\n",
    "    comm_total += infos['commentCount']\n",
    "    like_total += infos['likeCount']\n",
    "\n",
    "print(\"平均留言人數: \" + str(comm_total/len(data)), \"平均按讚人數: \" + str(float(like_total/len(data))))"
   ]
  },
  {
   "cell_type": "code",
   "execution_count": null,
   "metadata": {},
   "outputs": [],
   "source": []
  }
 ],
 "metadata": {
  "kernelspec": {
   "display_name": "Python 3",
   "language": "python",
   "name": "python3"
  },
  "language_info": {
   "codemirror_mode": {
    "name": "ipython",
    "version": 3
   },
   "file_extension": ".py",
   "mimetype": "text/x-python",
   "name": "python",
   "nbconvert_exporter": "python",
   "pygments_lexer": "ipython3",
   "version": "3.8.3"
  }
 },
 "nbformat": 4,
 "nbformat_minor": 2
}
